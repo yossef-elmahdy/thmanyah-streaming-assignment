{
 "cells": [
  {
   "cell_type": "markdown",
   "id": "9080b42e",
   "metadata": {},
   "source": [
    "## Register the Debezium Connector "
   ]
  },
  {
   "cell_type": "code",
   "execution_count": 1,
   "id": "a2534e6d",
   "metadata": {},
   "outputs": [
    {
     "name": "stdout",
     "output_type": "stream",
     "text": [
      "409 {\"error_code\":409,\"message\":\"Connector thmanyah-postgres-connector already exists\"}\n"
     ]
    }
   ],
   "source": [
    "import requests\n",
    "with open('config/debezium-source.json') as f:\n",
    "    resp = requests.post('http://localhost:8083/connectors', headers={'Content-Type': 'application/json'}, data=f.read())\n",
    "    print(resp.status_code, resp.text)\n"
   ]
  },
  {
   "cell_type": "markdown",
   "id": "a58bbd40",
   "metadata": {},
   "source": [
    "## Generate Mock Data Into `content` and `engagement_events` Postgres tables "
   ]
  },
  {
   "cell_type": "code",
   "execution_count": null,
   "id": "1ff49da2",
   "metadata": {},
   "outputs": [],
   "source": [
    "%pip install -r ./data-generator/requirements.txt"
   ]
  },
  {
   "cell_type": "code",
   "execution_count": 37,
   "id": "4d0f12e1",
   "metadata": {},
   "outputs": [
    {
     "name": "stdout",
     "output_type": "stream",
     "text": [
      "✅ Inserted 10 content records and 50 engagement events.\n"
     ]
    }
   ],
   "source": [
    "import uuid\n",
    "import random\n",
    "import psycopg2\n",
    "from datetime import datetime, timedelta\n",
    "from faker import Faker\n",
    "import json\n",
    "\n",
    "fake = Faker()\n",
    "\n",
    "# DB Connection\n",
    "conn = psycopg2.connect(\n",
    "    host=\"localhost\",\n",
    "    port=5432,\n",
    "    dbname=\"thmanyah_db\",\n",
    "    user=\"postgres\",\n",
    "    password=\"postgres\"\n",
    ")\n",
    "cursor = conn.cursor()\n",
    "\n",
    "# Constants\n",
    "CONTENT_TYPES = ['podcast', 'newsletter', 'video']\n",
    "EVENT_TYPES = ['play', 'pause', 'finish', 'click']\n",
    "DEVICES = ['ios', 'android', 'web-chrome', 'web-safari']\n",
    "\n",
    "NUM_CONTENT = 10\n",
    "NUM_EVENTS = 50\n",
    "\n",
    "# Step 1: Insert Content\n",
    "content_ids = []\n",
    "for _ in range(NUM_CONTENT):\n",
    "    cid = uuid.uuid4()\n",
    "    content_ids.append(cid)\n",
    "    cursor.execute(\"\"\"\n",
    "        INSERT INTO content (id, slug, title, content_type, length_seconds, publish_ts)\n",
    "        VALUES (%s, %s, %s, %s, %s, %s)\n",
    "        ON CONFLICT (id) DO NOTHING;\n",
    "    \"\"\", (\n",
    "        str(cid),\n",
    "        fake.slug(),\n",
    "        fake.sentence(nb_words=5),\n",
    "        random.choice(CONTENT_TYPES),\n",
    "        random.randint(30, 900),  # 0.5 to 15 minutes\n",
    "        datetime.now() - timedelta(days=random.randint(0, 30))\n",
    "    ))\n",
    "\n",
    "# Step 2: Insert Engagement Events\n",
    "for _ in range(NUM_EVENTS):\n",
    "    cid = random.choice(content_ids)\n",
    "    uid = uuid.uuid4()\n",
    "    event_type = random.choice(EVENT_TYPES)\n",
    "    duration_ms = random.randint(1000, 300000) if event_type in ['play', 'finish'] else None\n",
    "    payload = {\n",
    "        \"ip\": fake.ipv4(),\n",
    "        \"user_agent\": fake.user_agent()\n",
    "    }\n",
    "\n",
    "    cursor.execute(\"\"\"\n",
    "        INSERT INTO engagement_events (content_id, user_id, event_type, event_ts, duration_ms, device, raw_payload)\n",
    "        VALUES (%s, %s, %s, %s, %s, %s, %s);\n",
    "    \"\"\", (\n",
    "        str(cid),\n",
    "        str(uid),\n",
    "        event_type,\n",
    "        datetime.now(),\n",
    "        duration_ms,\n",
    "        random.choice(DEVICES),\n",
    "        json.dumps(payload)\n",
    "    ))\n",
    "\n",
    "conn.commit()\n",
    "cursor.close()\n",
    "conn.close()\n",
    "\n",
    "print(f\"✅ Inserted {NUM_CONTENT} content records and {NUM_EVENTS} engagement events.\")\n"
   ]
  },
  {
   "cell_type": "markdown",
   "id": "ee564c47",
   "metadata": {},
   "source": [
    "## Flink Job (Depricated)"
   ]
  },
  {
   "cell_type": "code",
   "execution_count": null,
   "id": "82ea6920",
   "metadata": {},
   "outputs": [],
   "source": [
    "%pip install -r ./flink-job/requirements.txt"
   ]
  },
  {
   "cell_type": "code",
   "execution_count": null,
   "id": "e0798ae4",
   "metadata": {},
   "outputs": [],
   "source": [
    "import json\n",
    "import redis\n",
    "import requests\n",
    "from pyflink.common import Configuration\n",
    "from pyflink.common import SimpleStringSchema, Types\n",
    "from pyflink.datastream import StreamExecutionEnvironment\n",
    "from pyflink.datastream.connectors import FlinkKafkaConsumer\n",
    "from pyflink.datastream.connectors import FlinkKafkaProducer\n",
    "\n",
    "\n",
    "\n",
    "\n",
    "# Redis Setup\n",
    "redis_client = redis.Redis(host='localhost', port=6379, decode_responses=True)\n",
    "\n",
    "# External System URL (placeholder) TODO \n",
    "EXTERNAL_URL = \"http://external-system/api/ingest\"\n",
    "\n",
    "\n",
    "def enrich_event(event, content_lookup):\n",
    "    try:\n",
    "        content = content_lookup.get(event['content_id'])\n",
    "        if not content:\n",
    "            return None \n",
    "\n",
    "        length_seconds = content.get('length_seconds')\n",
    "        duration_ms = event.get('duration_ms')\n",
    "\n",
    "        engagement_seconds = round(duration_ms / 1000.0, 2) if duration_ms else None\n",
    "        engagement_pct = round(engagement_seconds / length_seconds, 2) if (engagement_seconds and length_seconds) else None\n",
    "\n",
    "        enriched = {\n",
    "            **event,\n",
    "            \"content_type\": content.get(\"content_type\"),\n",
    "            \"length_seconds\": length_seconds,\n",
    "            \"engagement_seconds\": engagement_seconds,\n",
    "            \"engagement_pct\": engagement_pct\n",
    "        }\n",
    "        return enriched\n",
    "    except Exception as e:\n",
    "        print(f\"Enrichment error: {e}\")\n",
    "        return None\n",
    "\n",
    "\n",
    "def fanout(enriched_event):\n",
    "    json_str = json.dumps(enriched_event)\n",
    "\n",
    "    # 1. Redis\n",
    "    try:\n",
    "        key = f\"engagement:{enriched_event['content_id']}\"\n",
    "        redis_client.zadd(\"engagement_scores\", {key: enriched_event['engagement_pct'] or 0})\n",
    "    except Exception as e:\n",
    "        print(f\"Redis error: {e}\")\n",
    "\n",
    "    # 2. External HTTP system\n",
    "    # try:\n",
    "    #     requests.post(EXTERNAL_URL, json=enriched_event, timeout=2)\n",
    "    # except Exception as e:\n",
    "    #     print(f\"External system error: {e}\")\n",
    "\n",
    "    # 3. BigQuery - here we simulate by printing or sending to a file\n",
    "    print(f\"[BigQuery] {json_str}\")\n",
    "\n",
    "\n",
    "def main():\n",
    "    config = Configuration()\n",
    "    config.set_string(\n",
    "        \"pipeline.jars\",\n",
    "        \"file:///Users/youssefel-mahdy/Downloads/My%20Data/Thmanyah%20Assignment/thmanyah-streaming-assignment/jars/flink-connector-kafka-1.17.1.jar\"\n",
    "    )\n",
    "    env = StreamExecutionEnvironment.get_execution_environment(configuration=config)\n",
    "    env.set_parallelism(1)\n",
    "\n",
    "    # Kafka Consumer Config\n",
    "    kafka_props = {\n",
    "        'bootstrap.servers': 'localhost:9092',\n",
    "        'group.id': 'flink-consumer',\n",
    "        'auto.offset.reset': 'earliest'\n",
    "    }\n",
    "\n",
    "    kafka_source = FlinkKafkaConsumer(\n",
    "        topics='thmanyah.public.engagement_events',\n",
    "        deserialization_schema=SimpleStringSchema(),\n",
    "        properties=kafka_props\n",
    "    )\n",
    "\n",
    "    ds = env.add_source(kafka_source).map(lambda x: json.loads(x), output_type=Types.MAP(Types.STRING(), Types.STRING()))\n",
    "\n",
    "    # Mock content lookup (in real system, use broadcast state or external store)\n",
    "    # For now, we’ll simulate content data\n",
    "    content_lookup = {\n",
    "        \"11111111-1111-1111-1111-111111111111\": {\n",
    "            \"content_type\": \"podcast\",\n",
    "            \"length_seconds\": 200\n",
    "        }\n",
    "        # ... add more as needed\n",
    "    }\n",
    "\n",
    "    ds = ds.map(lambda event: enrich_event(event, content_lookup)) \\\n",
    "           .filter(lambda x: x is not None) \\\n",
    "           .map(lambda enriched: fanout(enriched))\n",
    "\n",
    "    env.execute(\"Thmanyah Engagement Event Pipeline\")\n",
    "\n",
    "\n",
    "if __name__ == '__main__':\n",
    "    main()\n"
   ]
  },
  {
   "cell_type": "code",
   "execution_count": null,
   "id": "72be053f",
   "metadata": {},
   "outputs": [],
   "source": [
    "%%python -m pyflink.datastream.cli \\\n",
    "  --python flink-job/main.py \\\n",
    "  --jarfile \"/Users/youssefel-mahdy/Downloads/My Data/Thmanyah Assignment/thmanyah-streaming-assignment/jars/flink-connector-kafka-1.17.1.jar\"/Users/youssefel-mahdy/Downloads/My Data/Thmanyah Assignment/thmanyah-streaming-assignment/jars/flink-connector-kafka-1.17.1.jar\"\n"
   ]
  },
  {
   "cell_type": "code",
   "execution_count": null,
   "id": "c530665d",
   "metadata": {},
   "outputs": [],
   "source": [
    "%pip install faust redis requests"
   ]
  },
  {
   "cell_type": "markdown",
   "id": "c486cbc7",
   "metadata": {},
   "source": [
    "## Test BigQuery Connection "
   ]
  },
  {
   "cell_type": "code",
   "execution_count": null,
   "id": "a7b43f75",
   "metadata": {},
   "outputs": [],
   "source": [
    "from google.cloud import bigquery\n",
    "bq_client = bigquery.Client.from_service_account_json(\"path.json\")\n",
    "# export GOOGLE_APPLICATION_CREDENTIALS=\"path.json\"\n",
    "# bq_client = bigquery.Client()"
   ]
  },
  {
   "cell_type": "code",
   "execution_count": 27,
   "id": "745ead83",
   "metadata": {},
   "outputs": [
    {
     "data": {
      "text/plain": [
       "<google.api_core.page_iterator.HTTPIterator at 0x1156d4550>"
      ]
     },
     "execution_count": 27,
     "metadata": {},
     "output_type": "execute_result"
    }
   ],
   "source": [
    "bq_client.list_datasets()"
   ]
  },
  {
   "cell_type": "code",
   "execution_count": 28,
   "id": "a3cc17df",
   "metadata": {},
   "outputs": [
    {
     "name": "stdout",
     "output_type": "stream",
     "text": [
      "<google.cloud.bigquery.dataset.DatasetListItem object at 0x11244f250>\n"
     ]
    }
   ],
   "source": [
    "for dataset in bq_client.list_datasets():\n",
    "    print(dataset)"
   ]
  },
  {
   "cell_type": "code",
   "execution_count": null,
   "id": "809a74dd",
   "metadata": {},
   "outputs": [
    {
     "data": {
      "text/plain": [
       "Table(TableReference(DatasetReference('pioneering-rex-350017', 'thmanyah_streaming_data'), 'events_data'))"
      ]
     },
     "execution_count": 29,
     "metadata": {},
     "output_type": "execute_result"
    }
   ],
   "source": [
    "project_id = \"xxx\"\n",
    "dataset_id = \"xx\"\n",
    "table_name = \"events_data\"\n",
    "table_id = f\"{project_id}.{dataset_id}.{table_name}\"\n",
    "\n",
    "# Initialize BigQuery client\n",
    "# bq_client = bigquery.Client()\n",
    "bq_client.get_table(table_id)"
   ]
  },
  {
   "cell_type": "markdown",
   "id": "81347b07",
   "metadata": {},
   "source": [
    "## Test Backfill Logic"
   ]
  },
  {
   "cell_type": "code",
   "execution_count": 39,
   "id": "5963d7f1",
   "metadata": {},
   "outputs": [
    {
     "name": "stdout",
     "output_type": "stream",
     "text": [
      "[Backfill] Starting replay from 2025-01-01 to 2025-09-01\n",
      "[Backfill] Sent event: 802b2de1-0ca7-4947-b6b6-bd6f5a879435\n",
      "[Backfill] Sent event: 962d38fe-3b19-4a0a-b7b3-5c576882e38b\n",
      "[Backfill] Sent event: 34a7e59e-c143-49b0-ab95-1b23ac4bb37d\n",
      "[Backfill] Sent event: 35068e14-df20-4021-a1ff-60f2493436c8\n",
      "[Backfill] Sent event: bcd45e34-d0dd-4241-a6c5-4b24a6ea4ed8\n",
      "[Backfill] Sent event: f5c8df49-e4e8-4cb8-a7b7-7eae01470788\n",
      "[Backfill] Sent event: 3a5b264c-5fae-41cd-8979-88b1b81b2fa2\n",
      "[Backfill] Sent event: 802b2de1-0ca7-4947-b6b6-bd6f5a879435\n",
      "[Backfill] Sent event: df88189f-021e-4feb-9e5d-e3062970b8c7\n",
      "[Backfill] Sent event: f5c8df49-e4e8-4cb8-a7b7-7eae01470788\n",
      "[Backfill] Sent event: bcd45e34-d0dd-4241-a6c5-4b24a6ea4ed8\n",
      "[Backfill] Sent event: bcd45e34-d0dd-4241-a6c5-4b24a6ea4ed8\n",
      "[Backfill] Sent event: 34a7e59e-c143-49b0-ab95-1b23ac4bb37d\n",
      "[Backfill] Sent event: 34a7e59e-c143-49b0-ab95-1b23ac4bb37d\n",
      "[Backfill] Sent event: df88189f-021e-4feb-9e5d-e3062970b8c7\n",
      "[Backfill] Sent event: 802b2de1-0ca7-4947-b6b6-bd6f5a879435\n",
      "[Backfill] Sent event: bcd45e34-d0dd-4241-a6c5-4b24a6ea4ed8\n",
      "[Backfill] Sent event: 3a5b264c-5fae-41cd-8979-88b1b81b2fa2\n",
      "[Backfill] Sent event: f5c8df49-e4e8-4cb8-a7b7-7eae01470788\n",
      "[Backfill] Sent event: 42503af1-0272-4cb8-8f2b-654f85fda38e\n",
      "[Backfill] Sent event: f5c8df49-e4e8-4cb8-a7b7-7eae01470788\n",
      "[Backfill] Sent event: 962d38fe-3b19-4a0a-b7b3-5c576882e38b\n",
      "[Backfill] Sent event: 34a7e59e-c143-49b0-ab95-1b23ac4bb37d\n",
      "[Backfill] Sent event: 962d38fe-3b19-4a0a-b7b3-5c576882e38b\n",
      "[Backfill] Sent event: 962d38fe-3b19-4a0a-b7b3-5c576882e38b\n",
      "[Backfill] Sent event: df88189f-021e-4feb-9e5d-e3062970b8c7\n",
      "[Backfill] Sent event: 962d38fe-3b19-4a0a-b7b3-5c576882e38b\n",
      "[Backfill] Sent event: 42503af1-0272-4cb8-8f2b-654f85fda38e\n",
      "[Backfill] Sent event: df88189f-021e-4feb-9e5d-e3062970b8c7\n",
      "[Backfill] Sent event: 3242a229-259f-48a0-b529-236b18996590\n",
      "[Backfill] Sent event: bcd45e34-d0dd-4241-a6c5-4b24a6ea4ed8\n",
      "[Backfill] Sent event: 42503af1-0272-4cb8-8f2b-654f85fda38e\n",
      "[Backfill] Sent event: 3242a229-259f-48a0-b529-236b18996590\n",
      "[Backfill] Sent event: 962d38fe-3b19-4a0a-b7b3-5c576882e38b\n",
      "[Backfill] Sent event: 962d38fe-3b19-4a0a-b7b3-5c576882e38b\n",
      "[Backfill] Sent event: 3a5b264c-5fae-41cd-8979-88b1b81b2fa2\n",
      "[Backfill] Sent event: df88189f-021e-4feb-9e5d-e3062970b8c7\n",
      "[Backfill] Sent event: 802b2de1-0ca7-4947-b6b6-bd6f5a879435\n",
      "[Backfill] Sent event: 962d38fe-3b19-4a0a-b7b3-5c576882e38b\n",
      "[Backfill] Sent event: 802b2de1-0ca7-4947-b6b6-bd6f5a879435\n",
      "[Backfill] Sent event: df88189f-021e-4feb-9e5d-e3062970b8c7\n",
      "[Backfill] Sent event: 35068e14-df20-4021-a1ff-60f2493436c8\n",
      "[Backfill] Sent event: 962d38fe-3b19-4a0a-b7b3-5c576882e38b\n",
      "[Backfill] Sent event: df88189f-021e-4feb-9e5d-e3062970b8c7\n",
      "[Backfill] Sent event: 3242a229-259f-48a0-b529-236b18996590\n",
      "[Backfill] Sent event: 3242a229-259f-48a0-b529-236b18996590\n",
      "[Backfill] Sent event: 42503af1-0272-4cb8-8f2b-654f85fda38e\n",
      "[Backfill] Sent event: 42503af1-0272-4cb8-8f2b-654f85fda38e\n",
      "[Backfill] Sent event: bcd45e34-d0dd-4241-a6c5-4b24a6ea4ed8\n",
      "[Backfill] Sent event: 35068e14-df20-4021-a1ff-60f2493436c8\n",
      "[Backfill] Sent event: 22ea0631-c3ff-4450-a4de-c9b735bc89af\n",
      "[Backfill] Sent event: a77c569e-8dae-47b6-a384-33659e03b5bd\n",
      "[Backfill] Sent event: d5f9ec5e-692a-4faf-8ffe-61583d877816\n",
      "[Backfill] Sent event: a77c569e-8dae-47b6-a384-33659e03b5bd\n",
      "[Backfill] Sent event: 8ba4b096-91df-498b-b70e-a95a8994f269\n",
      "[Backfill] Sent event: a77c569e-8dae-47b6-a384-33659e03b5bd\n",
      "[Backfill] Sent event: 2c7d3dc9-a72c-4d84-9190-63711ee58d04\n",
      "[Backfill] Sent event: 8ba4b096-91df-498b-b70e-a95a8994f269\n",
      "[Backfill] Sent event: d5f9ec5e-692a-4faf-8ffe-61583d877816\n",
      "[Backfill] Sent event: df03c9d6-50b4-448b-b098-1a14da2b857a\n",
      "[Backfill] Sent event: cfcc919c-8605-436a-b089-669c5020c6d7\n",
      "[Backfill] Sent event: df03c9d6-50b4-448b-b098-1a14da2b857a\n",
      "[Backfill] Sent event: d5f9ec5e-692a-4faf-8ffe-61583d877816\n",
      "[Backfill] Sent event: 0a3540cd-c295-4edd-9fd2-ce6aa50ccd8f\n",
      "[Backfill] Sent event: 2c7d3dc9-a72c-4d84-9190-63711ee58d04\n",
      "[Backfill] Sent event: 0a3540cd-c295-4edd-9fd2-ce6aa50ccd8f\n",
      "[Backfill] Sent event: df03c9d6-50b4-448b-b098-1a14da2b857a\n",
      "[Backfill] Sent event: 8ba4b096-91df-498b-b70e-a95a8994f269\n",
      "[Backfill] Sent event: df03c9d6-50b4-448b-b098-1a14da2b857a\n",
      "[Backfill] Sent event: a77c569e-8dae-47b6-a384-33659e03b5bd\n",
      "[Backfill] Sent event: 51f528f5-5806-44a7-a069-71d66d266162\n",
      "[Backfill] Sent event: 2c7d3dc9-a72c-4d84-9190-63711ee58d04\n",
      "[Backfill] Sent event: 2c7d3dc9-a72c-4d84-9190-63711ee58d04\n",
      "[Backfill] Sent event: d5f9ec5e-692a-4faf-8ffe-61583d877816\n",
      "[Backfill] Sent event: f0ae6c49-a0fd-474d-a81e-2d168cb5c13f\n",
      "[Backfill] Sent event: d5f9ec5e-692a-4faf-8ffe-61583d877816\n",
      "[Backfill] Sent event: 22ea0631-c3ff-4450-a4de-c9b735bc89af\n",
      "[Backfill] Sent event: cfcc919c-8605-436a-b089-669c5020c6d7\n",
      "[Backfill] Sent event: f0ae6c49-a0fd-474d-a81e-2d168cb5c13f\n",
      "[Backfill] Sent event: 2c7d3dc9-a72c-4d84-9190-63711ee58d04\n",
      "[Backfill] Sent event: 22ea0631-c3ff-4450-a4de-c9b735bc89af\n",
      "[Backfill] Sent event: 2c7d3dc9-a72c-4d84-9190-63711ee58d04\n",
      "[Backfill] Sent event: f0ae6c49-a0fd-474d-a81e-2d168cb5c13f\n",
      "[Backfill] Sent event: 2c7d3dc9-a72c-4d84-9190-63711ee58d04\n",
      "[Backfill] Sent event: 0a3540cd-c295-4edd-9fd2-ce6aa50ccd8f\n",
      "[Backfill] Sent event: d5f9ec5e-692a-4faf-8ffe-61583d877816\n",
      "[Backfill] Sent event: 22ea0631-c3ff-4450-a4de-c9b735bc89af\n",
      "[Backfill] Sent event: a77c569e-8dae-47b6-a384-33659e03b5bd\n",
      "[Backfill] Sent event: f0ae6c49-a0fd-474d-a81e-2d168cb5c13f\n",
      "[Backfill] Sent event: f0ae6c49-a0fd-474d-a81e-2d168cb5c13f\n",
      "[Backfill] Sent event: 0a3540cd-c295-4edd-9fd2-ce6aa50ccd8f\n",
      "[Backfill] Sent event: 22ea0631-c3ff-4450-a4de-c9b735bc89af\n",
      "[Backfill] Sent event: 22ea0631-c3ff-4450-a4de-c9b735bc89af\n",
      "[Backfill] Sent event: f0ae6c49-a0fd-474d-a81e-2d168cb5c13f\n",
      "[Backfill] Sent event: 0a3540cd-c295-4edd-9fd2-ce6aa50ccd8f\n",
      "[Backfill] Sent event: d5f9ec5e-692a-4faf-8ffe-61583d877816\n",
      "[Backfill] Sent event: f0ae6c49-a0fd-474d-a81e-2d168cb5c13f\n",
      "[Backfill] Sent event: df03c9d6-50b4-448b-b098-1a14da2b857a\n",
      "[Backfill] Sent event: 22ea0631-c3ff-4450-a4de-c9b735bc89af\n",
      "[Backfill] Sent event: 22ea0631-c3ff-4450-a4de-c9b735bc89af\n",
      "[Backfill] Sent event: cf606f26-9aaf-4e2b-8635-10b54e52d635\n",
      "[Backfill] Sent event: 76ce9754-ae75-4597-8f79-533a12afc56d\n",
      "[Backfill] Sent event: 76ce9754-ae75-4597-8f79-533a12afc56d\n",
      "[Backfill] Sent event: 3113545d-f0a6-4faa-ba01-bb3b76a510e9\n",
      "[Backfill] Sent event: f7853533-a2ce-47f1-830a-401b9aaf650b\n",
      "[Backfill] Sent event: 50b27f55-6353-421d-af1a-fd623de46242\n",
      "[Backfill] Sent event: 1dc798a4-2598-4929-b01d-2ebf0b2362a8\n",
      "[Backfill] Sent event: 667bea68-7a97-45c3-bbc0-b5d9bd54444c\n",
      "[Backfill] Sent event: fc2112c6-5034-4eff-8a68-c21eb6be43b9\n",
      "[Backfill] Sent event: cf606f26-9aaf-4e2b-8635-10b54e52d635\n",
      "[Backfill] Sent event: 3113545d-f0a6-4faa-ba01-bb3b76a510e9\n",
      "[Backfill] Sent event: 76ce9754-ae75-4597-8f79-533a12afc56d\n",
      "[Backfill] Sent event: 52dcbec3-37d6-48c1-8612-7d69dee220e3\n",
      "[Backfill] Sent event: 667bea68-7a97-45c3-bbc0-b5d9bd54444c\n",
      "[Backfill] Sent event: cf606f26-9aaf-4e2b-8635-10b54e52d635\n",
      "[Backfill] Sent event: 1dc798a4-2598-4929-b01d-2ebf0b2362a8\n",
      "[Backfill] Sent event: fc2112c6-5034-4eff-8a68-c21eb6be43b9\n",
      "[Backfill] Sent event: cf606f26-9aaf-4e2b-8635-10b54e52d635\n",
      "[Backfill] Sent event: 76ce9754-ae75-4597-8f79-533a12afc56d\n",
      "[Backfill] Sent event: 52dcbec3-37d6-48c1-8612-7d69dee220e3\n",
      "[Backfill] Sent event: 1dc798a4-2598-4929-b01d-2ebf0b2362a8\n",
      "[Backfill] Sent event: 50b27f55-6353-421d-af1a-fd623de46242\n",
      "[Backfill] Sent event: 667bea68-7a97-45c3-bbc0-b5d9bd54444c\n",
      "[Backfill] Sent event: 667bea68-7a97-45c3-bbc0-b5d9bd54444c\n",
      "[Backfill] Sent event: 0625b2cd-a22d-4d0d-b94c-e4a969437f2f\n",
      "[Backfill] Sent event: 50b27f55-6353-421d-af1a-fd623de46242\n",
      "[Backfill] Sent event: fc2112c6-5034-4eff-8a68-c21eb6be43b9\n",
      "[Backfill] Sent event: 0625b2cd-a22d-4d0d-b94c-e4a969437f2f\n",
      "[Backfill] Sent event: 50b27f55-6353-421d-af1a-fd623de46242\n",
      "[Backfill] Sent event: 50b27f55-6353-421d-af1a-fd623de46242\n",
      "[Backfill] Sent event: f7853533-a2ce-47f1-830a-401b9aaf650b\n",
      "[Backfill] Sent event: 667bea68-7a97-45c3-bbc0-b5d9bd54444c\n",
      "[Backfill] Sent event: 667bea68-7a97-45c3-bbc0-b5d9bd54444c\n",
      "[Backfill] Sent event: 667bea68-7a97-45c3-bbc0-b5d9bd54444c\n",
      "[Backfill] Sent event: cf606f26-9aaf-4e2b-8635-10b54e52d635\n",
      "[Backfill] Sent event: 667bea68-7a97-45c3-bbc0-b5d9bd54444c\n",
      "[Backfill] Sent event: 50b27f55-6353-421d-af1a-fd623de46242\n",
      "[Backfill] Sent event: 52dcbec3-37d6-48c1-8612-7d69dee220e3\n",
      "[Backfill] Sent event: f7853533-a2ce-47f1-830a-401b9aaf650b\n",
      "[Backfill] Sent event: 52dcbec3-37d6-48c1-8612-7d69dee220e3\n",
      "[Backfill] Sent event: 50b27f55-6353-421d-af1a-fd623de46242\n",
      "[Backfill] Sent event: f7853533-a2ce-47f1-830a-401b9aaf650b\n",
      "[Backfill] Sent event: cf606f26-9aaf-4e2b-8635-10b54e52d635\n",
      "[Backfill] Sent event: 52dcbec3-37d6-48c1-8612-7d69dee220e3\n",
      "[Backfill] Sent event: 1dc798a4-2598-4929-b01d-2ebf0b2362a8\n",
      "[Backfill] Sent event: 1dc798a4-2598-4929-b01d-2ebf0b2362a8\n",
      "[Backfill] Sent event: 667bea68-7a97-45c3-bbc0-b5d9bd54444c\n",
      "[Backfill] Sent event: 667bea68-7a97-45c3-bbc0-b5d9bd54444c\n",
      "[Backfill] Sent event: 76ce9754-ae75-4597-8f79-533a12afc56d\n",
      "[Backfill] Sent event: 52dcbec3-37d6-48c1-8612-7d69dee220e3\n",
      "[Backfill] Sent event: 6e5f10f4-2a8c-43b1-b082-b939b12db49a\n",
      "[Backfill] Sent event: 7daca40a-88aa-4248-95b2-0cc7552f0341\n",
      "[Backfill] Sent event: cf578c7c-77a6-4ffa-a524-1f61b865c03c\n",
      "[Backfill] Sent event: 686b2aed-87c7-4a3f-960e-046f6119de39\n",
      "[Backfill] Sent event: e842a270-af3c-4236-9ff9-b487a9121b5d\n",
      "[Backfill] Sent event: cf773092-7426-4962-80e8-0b99a39aff28\n",
      "[Backfill] Sent event: fd76aad4-fcba-4133-85f4-1e78e891af5a\n",
      "[Backfill] Sent event: cf578c7c-77a6-4ffa-a524-1f61b865c03c\n",
      "[Backfill] Sent event: 7daca40a-88aa-4248-95b2-0cc7552f0341\n",
      "[Backfill] Sent event: fd76aad4-fcba-4133-85f4-1e78e891af5a\n",
      "[Backfill] Sent event: 6e5f10f4-2a8c-43b1-b082-b939b12db49a\n",
      "[Backfill] Sent event: cf773092-7426-4962-80e8-0b99a39aff28\n",
      "[Backfill] Sent event: e842a270-af3c-4236-9ff9-b487a9121b5d\n",
      "[Backfill] Sent event: 6e5f10f4-2a8c-43b1-b082-b939b12db49a\n",
      "[Backfill] Sent event: e6f213b5-99de-423d-a327-2352c45022b0\n",
      "[Backfill] Sent event: 41f3549a-2ea7-416e-bb95-bbc53feadcb5\n",
      "[Backfill] Sent event: 41f3549a-2ea7-416e-bb95-bbc53feadcb5\n",
      "[Backfill] Sent event: cf578c7c-77a6-4ffa-a524-1f61b865c03c\n",
      "[Backfill] Sent event: 7daca40a-88aa-4248-95b2-0cc7552f0341\n",
      "[Backfill] Sent event: 686b2aed-87c7-4a3f-960e-046f6119de39\n",
      "[Backfill] Sent event: 6e5f10f4-2a8c-43b1-b082-b939b12db49a\n",
      "[Backfill] Sent event: 7daca40a-88aa-4248-95b2-0cc7552f0341\n",
      "[Backfill] Sent event: e842a270-af3c-4236-9ff9-b487a9121b5d\n",
      "[Backfill] Sent event: cf578c7c-77a6-4ffa-a524-1f61b865c03c\n",
      "[Backfill] Sent event: e6f213b5-99de-423d-a327-2352c45022b0\n",
      "[Backfill] Sent event: 7daca40a-88aa-4248-95b2-0cc7552f0341\n",
      "[Backfill] Sent event: e842a270-af3c-4236-9ff9-b487a9121b5d\n",
      "[Backfill] Sent event: 41f3549a-2ea7-416e-bb95-bbc53feadcb5\n",
      "[Backfill] Sent event: 967440b7-2b6e-4b5d-a4a6-83d927b47fd6\n",
      "[Backfill] Sent event: cf578c7c-77a6-4ffa-a524-1f61b865c03c\n",
      "[Backfill] Sent event: fd76aad4-fcba-4133-85f4-1e78e891af5a\n",
      "[Backfill] Sent event: cf578c7c-77a6-4ffa-a524-1f61b865c03c\n",
      "[Backfill] Sent event: 7daca40a-88aa-4248-95b2-0cc7552f0341\n",
      "[Backfill] Sent event: 6e5f10f4-2a8c-43b1-b082-b939b12db49a\n",
      "[Backfill] Sent event: e842a270-af3c-4236-9ff9-b487a9121b5d\n",
      "[Backfill] Sent event: 967440b7-2b6e-4b5d-a4a6-83d927b47fd6\n",
      "[Backfill] Sent event: e842a270-af3c-4236-9ff9-b487a9121b5d\n",
      "[Backfill] Sent event: 41f3549a-2ea7-416e-bb95-bbc53feadcb5\n",
      "[Backfill] Sent event: cf773092-7426-4962-80e8-0b99a39aff28\n",
      "[Backfill] Sent event: 41f3549a-2ea7-416e-bb95-bbc53feadcb5\n",
      "[Backfill] Sent event: cf578c7c-77a6-4ffa-a524-1f61b865c03c\n",
      "[Backfill] Sent event: cf773092-7426-4962-80e8-0b99a39aff28\n",
      "[Backfill] Sent event: e842a270-af3c-4236-9ff9-b487a9121b5d\n",
      "[Backfill] Sent event: 967440b7-2b6e-4b5d-a4a6-83d927b47fd6\n",
      "[Backfill] Sent event: 686b2aed-87c7-4a3f-960e-046f6119de39\n",
      "[Backfill] Sent event: cf773092-7426-4962-80e8-0b99a39aff28\n",
      "[Backfill] Sent event: 7daca40a-88aa-4248-95b2-0cc7552f0341\n",
      "[Backfill] Sent event: fd76aad4-fcba-4133-85f4-1e78e891af5a\n",
      "[Backfill] Sent event: e842a270-af3c-4236-9ff9-b487a9121b5d\n",
      "[Backfill] Sent event: cf773092-7426-4962-80e8-0b99a39aff28\n",
      "[Backfill] Sent event: dd5f4024-cf80-46df-85bc-ede1f3ea2344\n",
      "[Backfill] Sent event: 6c23d4cb-c7cd-4535-8283-97c8eca64517\n",
      "[Backfill] Sent event: 5d8719f3-bf73-4307-b127-fb5adaa13a74\n",
      "[Backfill] Sent event: 5fd5465d-882a-4033-9928-d479891a66a1\n",
      "[Backfill] Sent event: b89f4d84-4428-4917-b6bd-a8bce6a68abb\n",
      "[Backfill] Sent event: 5fd5465d-882a-4033-9928-d479891a66a1\n",
      "[Backfill] Sent event: dd5f4024-cf80-46df-85bc-ede1f3ea2344\n",
      "[Backfill] Sent event: 6edda164-836c-441b-a0a7-7096ec84147a\n",
      "[Backfill] Sent event: 5c0aa060-e24e-4b3b-9984-01461a6279d4\n",
      "[Backfill] Sent event: b89f4d84-4428-4917-b6bd-a8bce6a68abb\n",
      "[Backfill] Sent event: 6c23d4cb-c7cd-4535-8283-97c8eca64517\n",
      "[Backfill] Sent event: dd5f4024-cf80-46df-85bc-ede1f3ea2344\n",
      "[Backfill] Sent event: c2195ab2-ab74-4d39-91db-644e2f0bbe5c\n",
      "[Backfill] Sent event: 5d8719f3-bf73-4307-b127-fb5adaa13a74\n",
      "[Backfill] Sent event: b89f4d84-4428-4917-b6bd-a8bce6a68abb\n",
      "[Backfill] Sent event: dd5f4024-cf80-46df-85bc-ede1f3ea2344\n",
      "[Backfill] Sent event: c2195ab2-ab74-4d39-91db-644e2f0bbe5c\n",
      "[Backfill] Sent event: 99ba61d6-8144-4652-8d1d-98363352a687\n",
      "[Backfill] Sent event: 6c23d4cb-c7cd-4535-8283-97c8eca64517\n",
      "[Backfill] Sent event: 5fd5465d-882a-4033-9928-d479891a66a1\n",
      "[Backfill] Sent event: 5d8719f3-bf73-4307-b127-fb5adaa13a74\n",
      "[Backfill] Sent event: f3f8b482-fb77-4ee3-bf60-afdfce0134d8\n",
      "[Backfill] Sent event: 5c0aa060-e24e-4b3b-9984-01461a6279d4\n",
      "[Backfill] Sent event: dd5f4024-cf80-46df-85bc-ede1f3ea2344\n",
      "[Backfill] Sent event: f3f8b482-fb77-4ee3-bf60-afdfce0134d8\n",
      "[Backfill] Sent event: c2195ab2-ab74-4d39-91db-644e2f0bbe5c\n",
      "[Backfill] Sent event: dd5f4024-cf80-46df-85bc-ede1f3ea2344\n",
      "[Backfill] Sent event: 6edda164-836c-441b-a0a7-7096ec84147a\n",
      "[Backfill] Sent event: 6c23d4cb-c7cd-4535-8283-97c8eca64517\n",
      "[Backfill] Sent event: 99ba61d6-8144-4652-8d1d-98363352a687\n",
      "[Backfill] Sent event: 5c0aa060-e24e-4b3b-9984-01461a6279d4\n",
      "[Backfill] Sent event: 5c0aa060-e24e-4b3b-9984-01461a6279d4\n",
      "[Backfill] Sent event: b89f4d84-4428-4917-b6bd-a8bce6a68abb\n",
      "[Backfill] Sent event: 99ba61d6-8144-4652-8d1d-98363352a687\n",
      "[Backfill] Sent event: b89f4d84-4428-4917-b6bd-a8bce6a68abb\n",
      "[Backfill] Sent event: 5d8719f3-bf73-4307-b127-fb5adaa13a74\n",
      "[Backfill] Sent event: 5c0aa060-e24e-4b3b-9984-01461a6279d4\n",
      "[Backfill] Sent event: 5c0aa060-e24e-4b3b-9984-01461a6279d4\n",
      "[Backfill] Sent event: dd5f4024-cf80-46df-85bc-ede1f3ea2344\n",
      "[Backfill] Sent event: 99ba61d6-8144-4652-8d1d-98363352a687\n",
      "[Backfill] Sent event: 99ba61d6-8144-4652-8d1d-98363352a687\n",
      "[Backfill] Sent event: 5d8719f3-bf73-4307-b127-fb5adaa13a74\n",
      "[Backfill] Sent event: 6edda164-836c-441b-a0a7-7096ec84147a\n",
      "[Backfill] Sent event: dd5f4024-cf80-46df-85bc-ede1f3ea2344\n",
      "[Backfill] Sent event: 5fd5465d-882a-4033-9928-d479891a66a1\n",
      "[Backfill] Sent event: dd5f4024-cf80-46df-85bc-ede1f3ea2344\n",
      "[Backfill] Sent event: c2195ab2-ab74-4d39-91db-644e2f0bbe5c\n",
      "[Backfill] Sent event: f3f8b482-fb77-4ee3-bf60-afdfce0134d8\n",
      "[Backfill] Sent event: dd5f4024-cf80-46df-85bc-ede1f3ea2344\n",
      "[Backfill] Sent event: 5fd5465d-882a-4033-9928-d479891a66a1\n",
      "[Backfill] All events sent.\n"
     ]
    }
   ],
   "source": [
    "import json\n",
    "import psycopg2\n",
    "from kafka import KafkaProducer\n",
    "\n",
    "# Postgres connection config\n",
    "pg_conn = psycopg2.connect(\n",
    "    host=\"localhost\",         # or 'postgres' if running inside Docker\n",
    "    port=\"5432\",\n",
    "    database=\"thmanyah_db\",\n",
    "    user=\"postgres\",\n",
    "    password=\"postgres\"\n",
    ")\n",
    "\n",
    "# Kafka config\n",
    "producer = KafkaProducer(\n",
    "    bootstrap_servers='localhost:9092',\n",
    "    value_serializer=lambda v: json.dumps(v).encode('utf-8')\n",
    ")\n",
    "\n",
    "KAFKA_TOPIC = 'thmanyah.public.engagement_events'\n",
    "\n",
    "# Date filter (inclusive): change as needed\n",
    "START_DATE = '2025-01-01'\n",
    "END_DATE = '2025-09-01'\n",
    "\n",
    "\n",
    "def fetch_all_events(start_date, end_date):\n",
    "    with pg_conn.cursor() as cursor:\n",
    "        query = \"\"\"\n",
    "            SELECT * FROM public.engagement_events\n",
    "            WHERE event_ts >= %s AND event_ts <= %s\n",
    "            ORDER BY event_ts;\n",
    "        \"\"\"\n",
    "        cursor.execute(query, (start_date, end_date))\n",
    "        columns = [desc[0] for desc in cursor.description]\n",
    "        for row in cursor.fetchall():\n",
    "            yield dict(zip(columns, row))\n",
    "\n",
    "\n",
    "def main():\n",
    "    print(f\"[Backfill] Starting replay from {START_DATE} to {END_DATE}\")\n",
    "\n",
    "    for event in fetch_all_events(START_DATE, END_DATE):\n",
    "        # Convert datetime fields to strings\n",
    "        for key, value in event.items():\n",
    "            if isinstance(value, datetime):\n",
    "                event[key] = value.isoformat()\n",
    "        # print(event)\n",
    "        # You can optionally transform here (e.g., add raw_payload: {})\n",
    "        event['raw_payload'] = {}  # Optional, to match schema\n",
    "        producer.send(KAFKA_TOPIC, event)\n",
    "        print(f\"[Backfill] Sent event: {event['content_id']}\")\n",
    "\n",
    "    producer.flush()\n",
    "    print(\"[Backfill] All events sent.\")\n",
    "\n",
    "\n",
    "if __name__ == '__main__':\n",
    "    main()\n"
   ]
  },
  {
   "cell_type": "markdown",
   "id": "0b3c4209",
   "metadata": {},
   "source": [
    "## Test Environment Variables Accessability"
   ]
  },
  {
   "cell_type": "code",
   "execution_count": 40,
   "id": "8a33cbb1",
   "metadata": {},
   "outputs": [
    {
     "name": "stdout",
     "output_type": "stream",
     "text": [
      "Collecting python-dotenv\n",
      "  Downloading python_dotenv-1.1.1-py3-none-any.whl.metadata (24 kB)\n",
      "Downloading python_dotenv-1.1.1-py3-none-any.whl (20 kB)\n",
      "Installing collected packages: python-dotenv\n",
      "\u001b[33m  WARNING: The script dotenv is installed in '/Library/Frameworks/Python.framework/Versions/3.11/bin' which is not on PATH.\n",
      "  Consider adding this directory to PATH or, if you prefer to suppress this warning, use --no-warn-script-location.\u001b[0m\u001b[33m\n",
      "\u001b[0mSuccessfully installed python-dotenv-1.1.1\n",
      "\n",
      "\u001b[1m[\u001b[0m\u001b[34;49mnotice\u001b[0m\u001b[1;39;49m]\u001b[0m\u001b[39;49m A new release of pip is available: \u001b[0m\u001b[31;49m25.0.1\u001b[0m\u001b[39;49m -> \u001b[0m\u001b[32;49m25.2\u001b[0m\n",
      "\u001b[1m[\u001b[0m\u001b[34;49mnotice\u001b[0m\u001b[1;39;49m]\u001b[0m\u001b[39;49m To update, run: \u001b[0m\u001b[32;49mpython3 -m pip install --upgrade pip\u001b[0m\n",
      "Note: you may need to restart the kernel to use updated packages.\n"
     ]
    }
   ],
   "source": [
    "pip install python-dotenv\n"
   ]
  },
  {
   "cell_type": "code",
   "execution_count": 41,
   "id": "e1276449",
   "metadata": {},
   "outputs": [
    {
     "data": {
      "text/plain": [
       "True"
      ]
     },
     "execution_count": 41,
     "metadata": {},
     "output_type": "execute_result"
    }
   ],
   "source": [
    "from dotenv import load_dotenv\n",
    "load_dotenv()"
   ]
  },
  {
   "cell_type": "code",
   "execution_count": 42,
   "id": "6b7877c0",
   "metadata": {},
   "outputs": [
    {
     "data": {
      "text/plain": [
       "'kafka://localhost:9092'"
      ]
     },
     "execution_count": 42,
     "metadata": {},
     "output_type": "execute_result"
    }
   ],
   "source": [
    "import os\n",
    "\n",
    "# Kafka\n",
    "KAFKA_BROKER_URL = os.getenv(\"KAFKA_BROKER_URL\",None)\n",
    "KAFKA_BROKER_URL"
   ]
  },
  {
   "cell_type": "code",
   "execution_count": 44,
   "id": "8688f026",
   "metadata": {},
   "outputs": [
    {
     "name": "stdout",
     "output_type": "stream",
     "text": [
      "10\n"
     ]
    }
   ],
   "source": [
    "REDIS_AGGREGATOR_TIME_WINDOW=600 # 10 minutes \n",
    "print(int(REDIS_AGGREGATOR_TIME_WINDOW/60))"
   ]
  }
 ],
 "metadata": {
  "kernelspec": {
   "display_name": "Python 3",
   "language": "python",
   "name": "python3"
  },
  "language_info": {
   "codemirror_mode": {
    "name": "ipython",
    "version": 3
   },
   "file_extension": ".py",
   "mimetype": "text/x-python",
   "name": "python",
   "nbconvert_exporter": "python",
   "pygments_lexer": "ipython3",
   "version": "3.11.6"
  }
 },
 "nbformat": 4,
 "nbformat_minor": 5
}
